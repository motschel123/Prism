{
 "cells": [
  {
   "cell_type": "markdown",
   "metadata": {},
   "source": [
    "# Inference Test 😎"
   ]
  },
  {
   "cell_type": "code",
   "execution_count": 1,
   "metadata": {},
   "outputs": [],
   "source": [
    "from dataclasses import dataclass\n",
    "import jax.numpy as jnp\n",
    "\n",
    "@dataclass\n",
    "class Problem:\n",
    "    n : int\n",
    "    rigid_cov : jnp.array\n",
    "    transition_cov : jnp.array\n",
    "    \n",
    "    \"\"\"\n",
    "    amplify_fun(1, 0.02, 0.1),\n",
    "    amplify_fun(1, 0.25, 0.1),\n",
    "    amplify_fun(30, 0.001, 0.0001),\n",
    "    amplify_fun(5, 0.02, 0.005),\n",
    "    amplify_fun(3, 0.05, 0.01)\"\"\"\n",
    "\n",
    "# \"no_rigid_phases\" <- normal run\n",
    "    \n",
    "problems = {\n",
    "    \"best_run\" : Problem(1, jnp.array([0.02]), jnp.array([0.1])),\n",
    "    \"long_rigid_phase\" : Problem(1, jnp.array([0.25]), jnp.array([0.1])),\n",
    "    \"many_tiny_stops\" : Problem(30, jnp.array([0.001] * 30), jnp.array([0.0001] * 30)),\n",
    "    \"some_short_stops\" : Problem(5, jnp.array([0.02] * 5), jnp.array([0.005] * 5)),\n",
    "    \"some_rigid_phases\" : Problem(3, jnp.array([0.05] * 3), jnp.array([0.01] * 3))\n",
    "}"
   ]
  },
  {
   "cell_type": "markdown",
   "metadata": {},
   "source": [
    "### Generate Data"
   ]
  },
  {
   "cell_type": "markdown",
   "metadata": {},
   "source": [
    "Define System"
   ]
  },
  {
   "cell_type": "code",
   "execution_count": 2,
   "metadata": {},
   "outputs": [],
   "source": [
    "import x_xy\n",
    "\n",
    "three_seg_rigid = r\"\"\"\n",
    "<x_xy model=\"three_seg_rigid\">\n",
    "    <options gravity=\"0 0 9.81\" dt=\"0.01\"/>\n",
    "    <worldbody>\n",
    "        <body name=\"seg2\" joint=\"free\">\n",
    "            <body name=\"seg1\" joint=\"rsry\" pos=\"-0.2 0 0\">\n",
    "                <body name=\"imu1\" joint=\"frozen\"/>\n",
    "            </body>\n",
    "            <body name=\"seg3\" joint=\"rsrz\" pos=\"0.2 0 0\">\n",
    "                <body name=\"imu2\" joint=\"frozen\" pos=\"0 0 0\"/>\n",
    "            </body>\n",
    "        </body>\n",
    "    </worldbody>\n",
    "</x_xy>\n",
    "\"\"\"\n",
    "\n",
    "dustin_exp_xml_seg1 = r\"\"\"\n",
    "<x_xy model=\"dustin_exp\">\n",
    "    <options gravity=\"0 0 9.81\" dt=\"0.01\"/>\n",
    "    <worldbody>\n",
    "        <body name=\"seg1\" joint=\"free\">\n",
    "            <body name=\"seg2\" joint=\"ry\">\n",
    "                <body name=\"seg3\" joint=\"rz\"></body>\n",
    "            </body>\n",
    "        </body>\n",
    "    </worldbody>\n",
    "</x_xy>\n",
    "\"\"\""
   ]
  },
  {
   "cell_type": "markdown",
   "metadata": {},
   "source": [
    "Define Logic"
   ]
  },
  {
   "cell_type": "code",
   "execution_count": 3,
   "metadata": {},
   "outputs": [],
   "source": [
    "import jax\n",
    "import jax.numpy as jnp\n",
    "from jax import random\n",
    "import x_xy\n",
    "\n",
    "\"\"\"\n",
    "Calculates an amplifying-function, which can be used to decrease the values of another array with the same length.\n",
    "An array of shape (time / sampling rate) will be returned, containing values between 0 and 1.\n",
    "The covariance values are relative to the length of the array that will be created.\n",
    "\"\"\"\n",
    "\n",
    "\n",
    "def motion_amplifier(\n",
    "        time,\n",
    "        sampling_rate,\n",
    "        key_rigid_phases,\n",
    "        n_rigid_phases=3,\n",
    "        rigid_duration_cov=jnp.array([0.02] * 3),\n",
    "        transition_cov=jnp.array([0.1] * 3)\n",
    ") -> jnp.ndarray:\n",
    "    assert rigid_duration_cov.shape == (n_rigid_phases,) == transition_cov.shape, \"motion_amplifier: There must be a variance for each rigid phase!\"\n",
    "    n_frames = int(time / sampling_rate)\n",
    "    key_rigid_means, key_rigid_variances, key_slope_down_variances, key_slope_up_variances = random.split(\n",
    "        key_rigid_phases, 4)\n",
    "\n",
    "    # Calculate center points of rigid phases\n",
    "    means = jnp.sort(random.uniform(key_rigid_means, shape=(\n",
    "        n_rigid_phases, 1), minval=0, maxval=n_frames).T)\n",
    "\n",
    "    # Calculate durations, which is twice the rigid distance from the center points for each rigid phase.\n",
    "    rigid_distances = jnp.abs(random.multivariate_normal(key_rigid_variances, mean=jnp.zeros_like(\n",
    "        means), cov=jnp.diag((rigid_duration_cov * n_frames)**2)))\n",
    "\n",
    "    # Calculate transition durations\n",
    "    transition_slowdown_durations = jnp.abs(random.multivariate_normal(\n",
    "        key_slope_down_variances, mean=jnp.zeros_like(means), cov=jnp.diag((transition_cov * n_frames)**2)))\n",
    "    transition_speedup_durations = jnp.abs(random.multivariate_normal(\n",
    "        key_slope_up_variances, mean=jnp.zeros_like(means), cov=jnp.diag((transition_cov * n_frames)**2)))\n",
    "\n",
    "    # Phase start and end points\n",
    "    rigid_starts = (means - rigid_distances).astype(int).flatten()\n",
    "    rigid_ends = (means + rigid_distances).astype(int).flatten()\n",
    "    starts_slowing = (means - rigid_distances -\n",
    "                      transition_slowdown_durations).astype(int).flatten()\n",
    "    ends_moving = (means + rigid_distances +\n",
    "                   transition_speedup_durations).astype(int).flatten()\n",
    "\n",
    "    # Create masks\n",
    "    def create_mask(start, end):\n",
    "        nonlocal n_frames\n",
    "        return jnp.where(jnp.arange(n_frames) < start, 1, 0) + jnp.where(jnp.arange(n_frames) >= end, 1, 0)\n",
    "\n",
    "    mask = jax.vmap(create_mask)\n",
    "    rigid_mask = jnp.prod(mask(rigid_starts, rigid_ends), axis=0)\n",
    "    slowdown_masks = mask(starts_slowing, rigid_starts).astype(float)\n",
    "    speedup_masks = mask(rigid_ends, ends_moving).astype(float)\n",
    "\n",
    "    def linsp(mask, start, end, begin_val, carry_fun):\n",
    "        range = end - start\n",
    "        def true_fun(carry, x): return (carry_fun(carry, range), 1 - carry)\n",
    "        def false_fun(carry, x): return (carry, x)\n",
    "        def f(carry, x): return jax.lax.cond(\n",
    "            x == 0, true_fun, false_fun, *(carry, x))\n",
    "        return jax.lax.scan(f, begin_val, mask)[1]\n",
    "\n",
    "    linsp_desc = jax.vmap(lambda m, s1, s2: linsp(\n",
    "        m, s1, s2, 0.0, lambda carry, range: carry + 1/range))\n",
    "    slowdown_mask = jnp.prod(linsp_desc(\n",
    "        slowdown_masks, starts_slowing, rigid_starts), axis=0)\n",
    "\n",
    "    linsp_asc = jax.vmap(lambda m, s1, s2: linsp(\n",
    "        m, s1, s2, 1.0, lambda carry, range: carry - 1/range))\n",
    "    speedup_mask = jnp.prod(\n",
    "        linsp_asc(speedup_masks, rigid_ends, ends_moving), axis=0)\n",
    "\n",
    "    return jnp.min(jnp.stack([rigid_mask, slowdown_mask, speedup_mask]), axis=0)\n",
    "\n",
    "\n",
    "def random_angles_with_rigid_phases_over_time(\n",
    "    key_t,\n",
    "    key_ang,\n",
    "    T,\n",
    "    Ts,\n",
    "    key_rigid_phases,\n",
    "    n_rigid_phases=3,\n",
    "    rigid_duration_cov=jnp.array([0.02] * 3),\n",
    "    transition_cov=jnp.array([0.1] * 3),\n",
    "    ANG_0=0.0,\n",
    "    dang_min=0.01,\n",
    "    dang_max=0.05,\n",
    "    t_min=0.1,\n",
    "    t_max=0.5,\n",
    "    randomized_interpolation=False,\n",
    "    range_of_motion=False,\n",
    "    range_of_motion_method=\"uniform\"\n",
    "):\n",
    "    mask = motion_amplifier(T, Ts, key_rigid_phases,\n",
    "                            n_rigid_phases, rigid_duration_cov, transition_cov)\n",
    "\n",
    "    qs = x_xy.algorithms.random_angle_over_time(\n",
    "        key_t=key_t,\n",
    "        key_ang=key_ang,\n",
    "        ANG_0=ANG_0,\n",
    "        dang_min=dang_min,\n",
    "        dang_max=dang_max,\n",
    "        delta_ang_min=0.0,\n",
    "        delta_ang_max=2 * jnp.pi,\n",
    "        t_min=t_min,\n",
    "        t_max=t_max,\n",
    "        T=T,\n",
    "        Ts=Ts,\n",
    "        randomized_interpolation=randomized_interpolation,\n",
    "        range_of_motion=range_of_motion,\n",
    "        range_of_motion_method=range_of_motion_method\n",
    "    )\n",
    "\n",
    "    # derivate qs\n",
    "    qs_diff = jnp.diff(qs, axis=0)\n",
    "\n",
    "    # mulitply with motion amplifier\n",
    "    qs_diff = qs_diff * mask[:-1]\n",
    "\n",
    "    # integrate qs_diff\n",
    "    qs_rigid_phases = jnp.concatenate((qs[0:1], jnp.cumsum(qs_diff, axis=0)))\n",
    "    return qs_rigid_phases\n"
   ]
  },
  {
   "cell_type": "code",
   "execution_count": 4,
   "metadata": {},
   "outputs": [],
   "source": [
    "import jax\n",
    "from x_xy import maths\n",
    "from x_xy import base\n",
    "\n",
    "@dataclass\n",
    "class ExtendedConfig(x_xy.algorithms.RCMG_Config):\n",
    "    n_rigid_phases : int = 3\n",
    "    cov_rigid_durations : jax.Array = jnp.array([0.02] * n_rigid_phases)\n",
    "    cov_transitions : jax.Array = jnp.array([0.1] * n_rigid_phases)\n",
    "    \n",
    "    def __post_init__(self):\n",
    "        assert self.cov_rigid_durations.shape == self.cov_transitions.shape\n",
    "        \n",
    "def define_joints():\n",
    "\n",
    "    \n",
    "    def _draw_sometimes_rigid(\n",
    "            config: ExtendedConfig, key_t: jax.random.PRNGKey, key_value: jax.random.PRNGKey\n",
    "    ) -> jax.Array:\n",
    "        key_t, key_rigid_phases = jax.random.split(key_t)\n",
    "        return random_angles_with_rigid_phases_over_time(\n",
    "            key_t=key_t,\n",
    "            key_ang=key_value,\n",
    "            T=config.T,\n",
    "            Ts=config.Ts,\n",
    "            key_rigid_phases=key_rigid_phases,\n",
    "            n_rigid_phases=config.n_rigid_phases,\n",
    "            rigid_duration_cov=config.cov_rigid_durations,\n",
    "            transition_cov=config.cov_transitions,\n",
    "            ANG_0=0,\n",
    "            dang_min=config.dang_min,\n",
    "            dang_max=config.dang_max,\n",
    "            t_min=config.t_min,\n",
    "            t_max=config.t_max,\n",
    "            randomized_interpolation=config.randomized_interpolation_angle, # ???????????????????????\n",
    "            range_of_motion=config.range_of_motion_hinge,\n",
    "            range_of_motion_method=config.range_of_motion_hinge_method\n",
    "        )\n",
    "\n",
    "    def _rxyz_transform(q, _, axis):\n",
    "        q = jnp.squeeze(q)\n",
    "        rot = maths.quat_rot_axis(axis, q)\n",
    "        return base.Transform.create(rot=rot)\n",
    "\n",
    "    rsrx_joint = x_xy.algorithms.JointModel(\n",
    "        lambda q, _: _rxyz_transform(q, _, jnp.array([1.0, 0, 0])), [None], rcmg_draw_fn=_draw_sometimes_rigid\n",
    "    )\n",
    "    rsry_joint = x_xy.algorithms.JointModel(\n",
    "        lambda q, _: _rxyz_transform(q, _, jnp.array([0, 1.0, 0])), [None], rcmg_draw_fn=_draw_sometimes_rigid\n",
    "    )\n",
    "    rsrz_joint = x_xy.algorithms.JointModel(\n",
    "        lambda q, _: _rxyz_transform(q, _, jnp.array([0, 0, 1.0])), [None], rcmg_draw_fn=_draw_sometimes_rigid\n",
    "    )\n",
    "    x_xy.algorithms.register_new_joint_type(\"rsrx\", rsrx_joint, 1)\n",
    "    x_xy.algorithms.register_new_joint_type(\"rsry\", rsry_joint, 1)\n",
    "    x_xy.algorithms.register_new_joint_type(\"rsrz\", rsrz_joint, 1)\n",
    "    \n",
    "try:\n",
    "    define_joints()\n",
    "except AssertionError:\n",
    "    pass\n",
    "\n",
    "sys = x_xy.io.load_sys_from_str(three_seg_rigid)"
   ]
  },
  {
   "cell_type": "markdown",
   "metadata": {},
   "source": [
    "Define Problems"
   ]
  },
  {
   "cell_type": "markdown",
   "metadata": {},
   "source": [
    "Generate random data"
   ]
  },
  {
   "cell_type": "code",
   "execution_count": 5,
   "metadata": {},
   "outputs": [],
   "source": [
    "from jax import random\n",
    "from x_xy.algorithms import random_angle_over_time\n",
    "\n",
    "KEYNUM = 6\n",
    "\n",
    "problem = problems[\"some_rigid_phases\"]\n",
    "\n",
    "key_t = random.PRNGKey(KEYNUM)\n",
    "key_ang = random.PRNGKey(KEYNUM)\n",
    "key_rigid_phases = random.PRNGKey(KEYNUM)\n",
    "T = 60\n",
    "Ts = 0.1\n",
    "\n",
    "std_config = x_xy.algorithms.RCMG_Config()\n",
    "extended_config = ExtendedConfig(n_rigid_phases=problem.n, cov_rigid_durations=problem.rigid_cov, cov_transitions=problem.transition_cov)\n",
    "\n",
    "mask = motion_amplifier(T, Ts, key_t, problem.n, problem.rigid_cov, problem.transition_cov)\n",
    "angles = random_angles_with_rigid_phases_over_time(key_t=key_t , key_ang=key_ang, key_rigid_phases=key_rigid_phases, T=T, Ts=Ts, n_rigid_phases=problem.n, rigid_duration_cov=problem.rigid_cov, transition_cov=problem.transition_cov)\n",
    "# angles_normal = random_angle_over_time(key_t=key_t, key_ang=key_ang, T=T, Ts=Ts, ANG_0=0, dang_min=std_config.dang_min, dang_max=std_config.dang_max, t_min=std_config.t_min, t_max=std_config.t_max)"
   ]
  },
  {
   "cell_type": "code",
   "execution_count": 6,
   "metadata": {},
   "outputs": [
    {
     "data": {
      "image/png": "[encoded data removed]",
      "text/plain": [
       "<Figure size 640x480 with 1 Axes>"
      ]
     },
     "metadata": {},
     "output_type": "display_data"
    }
   ],
   "source": [
    "# plot angle data\n",
    "import matplotlib.pyplot as plt\n",
    "import numpy as np\n",
    "\n",
    "fig, ax = plt.subplots()\n",
    "ax.plot(np.arange(0, T, Ts), angles)\n",
    "ax.plot(np.arange(0, T, Ts), mask * 0.05, color=\"red\")\n",
    "ax.set(xlabel='time (s)', ylabel='angle', title='Angle over time')\n",
    "ax.legend([\"Angle\", \"Mask\"])\n",
    "ax.grid()\n",
    "plt.show()\n"
   ]
  },
  {
   "cell_type": "markdown",
   "metadata": {},
   "source": [
    "### Generate X and y"
   ]
  },
  {
   "cell_type": "code",
   "execution_count": 7,
   "metadata": {},
   "outputs": [],
   "source": [
    "from x_xy import algorithms, utils\n",
    "\n",
    "def finalize_fn_imu_data(key, q, x, sys):\n",
    "    imu_seg_attachment = {\"imu1\": \"seg1\", \"imu2\": \"seg3\"}\n",
    "\n",
    "    X = {}\n",
    "    for imu, seg in imu_seg_attachment.items():\n",
    "        key, consume = jax.random.split(key)\n",
    "        X[seg] = x_xy.algorithms.imu(\n",
    "            x.take(sys.name_to_idx(imu), 1), sys.gravity, sys.dt, consume, True\n",
    "        )\n",
    "    return X\n",
    "\n",
    "def finalize_fn_rel_pose_data(key, _, x, sys):\n",
    "    # Defines what the network should predict\n",
    "    dustin_sys = x_xy.io.load_sys_from_str(dustin_exp_xml_seg1)\n",
    "    y = x_xy.algorithms.rel_pose(sys_scan=dustin_sys, xs=x, sys_xs=sys)\n",
    "    return y\n",
    "\n",
    "\n",
    "def finalize_fn(key, q, x, sys):\n",
    "    X = finalize_fn_imu_data(key, q, x, sys)\n",
    "    y = finalize_fn_rel_pose_data(key, q, x, sys)\n",
    "    return X, y, x\n",
    "\n",
    "config = extended_config\n",
    "generator = algorithms.build_generator(sys, config, finalize_fn=finalize_fn)\n",
    "# we can even batch together multiple generators\n",
    "# generator = algorithms.batch_generator([generator, generator], [32, 16])\n",
    "seed = jax.random.PRNGKey(1,)\n",
    "X, y, xs = generator(seed)"
   ]
  },
  {
   "cell_type": "code",
   "execution_count": 8,
   "metadata": {},
   "outputs": [
    {
     "name": "stdout",
     "output_type": "stream",
     "text": [
      "dict_keys(['seg1', 'seg3'])\n",
      "dict_keys(['acc', 'gyr'])\n",
      "dict_keys(['seg2', 'seg3'])\n"
     ]
    }
   ],
   "source": [
    "print(X.keys())\n",
    "print(X[\"seg1\"].keys())\n",
    "print(y.keys())"
   ]
  },
  {
   "cell_type": "markdown",
   "metadata": {},
   "source": [
    "Open Pickle file and store data"
   ]
  },
  {
   "cell_type": "code",
   "execution_count": 9,
   "metadata": {},
   "outputs": [],
   "source": [
    "def load_pickle_params(problem_key):\n",
    "    from neural_networks import io_params\n",
    "    pickle_file = f\"/data/uk16ural/prism_params/{problem_key}.pickle\"\n",
    "    return io_params.load(pickle_file)"
   ]
  },
  {
   "cell_type": "markdown",
   "metadata": {},
   "source": [
    "Do inference :yep:"
   ]
  },
  {
   "cell_type": "code",
   "execution_count": 10,
   "metadata": {},
   "outputs": [],
   "source": [
    "from neural_networks.rnno import rnno_v2\n",
    "\n",
    "params = load_pickle_params(\"best_run\")\n",
    "\n",
    "dustin_sys = x_xy.io.load_sys_from_str(dustin_exp_xml_seg1)\n",
    "network = rnno_v2(dustin_sys)\n",
    "# initialize the network parameters and the initial state \n",
    "# using a random seed `key`\n",
    "coq, state = network.init(key_ang, X)\n",
    "# then we can call the network with \n",
    "yhat, _ = network.apply(params, state, X)\n",
    "\n",
    "# TODO: CHECK IF ANY GOOD"
   ]
  },
  {
   "cell_type": "code",
   "execution_count": 11,
   "metadata": {},
   "outputs": [
    {
     "name": "stdout",
     "output_type": "stream",
     "text": [
      "dict_keys(['seg2', 'seg3'])\n"
     ]
    }
   ],
   "source": [
    "print(yhat.keys())\n",
    "# print(y.rot)"
   ]
  },
  {
   "cell_type": "markdown",
   "metadata": {},
   "source": [
    "Multiply Quaternions with one inverse -> Maths.angle_error\n"
   ]
  },
  {
   "cell_type": "code",
   "execution_count": 12,
   "metadata": {},
   "outputs": [
    {
     "name": "stdout",
     "output_type": "stream",
     "text": [
      "0.09718607 0.10582847\n"
     ]
    },
    {
     "data": {
      "image/png": "[encoded data removed]",
      "text/plain": [
       "<Figure size 640x480 with 1 Axes>"
      ]
     },
     "metadata": {},
     "output_type": "display_data"
    }
   ],
   "source": [
    "from x_xy import maths\n",
    "import jax.numpy as jnp\n",
    "import matplotlib.pyplot as plt\n",
    "errs2 = maths.angle_error(y[\"seg2\"], yhat[\"seg2\"])\n",
    "errs3 = maths.angle_error(y[\"seg3\"], yhat[\"seg3\"])\n",
    "avg2 = jnp.average(errs2)\n",
    "avg3 = jnp.average(errs3)\n",
    "\n",
    "print(avg2, avg3)\n",
    "\n",
    "plt.plot(errs2)\n",
    "plt.plot(errs3)\n",
    "plt.show()"
   ]
  },
  {
   "cell_type": "markdown",
   "metadata": {},
   "source": [
    "# Parameters 2 Video Pipeline:tm:"
   ]
  },
  {
   "cell_type": "code",
   "execution_count": 20,
   "metadata": {},
   "outputs": [
    {
     "name": "stdout",
     "output_type": "stream",
     "text": [
      "--Return--\n",
      "None\n",
      "> \u001b[0;32m/tmp/ipykernel_3548/878561472.py\u001b[0m(13)\u001b[0;36m<module>\u001b[0;34m()\u001b[0m\n",
      "\u001b[0;32m     11 \u001b[0;31m\u001b[0mparams\u001b[0m \u001b[0;34m=\u001b[0m \u001b[0mload_pickle_params\u001b[0m\u001b[0;34m(\u001b[0m\u001b[0;34m\"best_run\"\u001b[0m\u001b[0;34m)\u001b[0m\u001b[0;34m\u001b[0m\u001b[0;34m\u001b[0m\u001b[0m\n",
      "\u001b[0m\u001b[0;32m     12 \u001b[0;31m\u001b[0;34m\u001b[0m\u001b[0m\n",
      "\u001b[0m\u001b[0;32m---> 13 \u001b[0;31m\u001b[0mpdb\u001b[0m\u001b[0;34m.\u001b[0m\u001b[0mset_trace\u001b[0m\u001b[0;34m(\u001b[0m\u001b[0;34m)\u001b[0m\u001b[0;34m\u001b[0m\u001b[0;34m\u001b[0m\u001b[0m\n",
      "\u001b[0m\u001b[0;32m     14 \u001b[0;31m\u001b[0;34m\u001b[0m\u001b[0m\n",
      "\u001b[0m\u001b[0;32m     15 \u001b[0;31mpipeline.predict(\n",
      "\u001b[0m\n"
     ]
    },
    {
     "name": "stdout",
     "output_type": "stream",
     "text": [
      "Breakpoint 3 at /data/uk16ural/miniforge3/envs/prism/lib/python3.10/site-packages/x_xy/render.py:300\n",
      "\u001b[0;31m    [... skipped 1 hidden frame]\u001b[0m\n",
      "\n",
      "\u001b[0;31m    [... skipped 1 hidden frame]\u001b[0m\n",
      "\n",
      "\u001b[0;31m    [... skipped 1 hidden frame]\u001b[0m\n",
      "\n",
      "\u001b[0;31m    [... skipped 1 hidden frame]\u001b[0m\n",
      "\n",
      "> \u001b[0;32m/data/uk16ural/miniforge3/envs/prism/lib/python3.10/site-packages/x_xy/subpkgs/pipeline/predict.py\u001b[0m(41)\u001b[0;36mpredict\u001b[0;34m()\u001b[0m\n",
      "\u001b[0;32m     39 \u001b[0;31m    \u001b[0;34m**\u001b[0m\u001b[0mvispy_kwargs\u001b[0m\u001b[0;34m,\u001b[0m\u001b[0;34m\u001b[0m\u001b[0;34m\u001b[0m\u001b[0m\n",
      "\u001b[0m\u001b[0;32m     40 \u001b[0;31m):\n",
      "\u001b[0m\u001b[0;32m---> 41 \u001b[0;31m    \u001b[0;32mimport\u001b[0m \u001b[0mmatplotlib\u001b[0m\u001b[0;34m.\u001b[0m\u001b[0mpyplot\u001b[0m \u001b[0;32mas\u001b[0m \u001b[0mplt\u001b[0m\u001b[0;34m\u001b[0m\u001b[0;34m\u001b[0m\u001b[0m\n",
      "\u001b[0m\u001b[0;32m     42 \u001b[0;31m\u001b[0;34m\u001b[0m\u001b[0m\n",
      "\u001b[0m\u001b[0;32m     43 \u001b[0;31m    \u001b[0mrnno\u001b[0m \u001b[0;34m=\u001b[0m \u001b[0mrnno_fn\u001b[0m\u001b[0;34m(\u001b[0m\u001b[0msys\u001b[0m\u001b[0;34m)\u001b[0m\u001b[0;34m\u001b[0m\u001b[0;34m\u001b[0m\u001b[0m\n",
      "\u001b[0m\n",
      "{'mae_deg_seg2': Array(5.633198, dtype=float32), 'mae_deg_seg3': Array(6.127283, dtype=float32)}\n",
      "> \u001b[0;32m/data/uk16ural/miniforge3/envs/prism/lib/python3.10/site-packages/x_xy/render.py\u001b[0m(313)\u001b[0;36manimate\u001b[0;34m()\u001b[0m\n",
      "\u001b[0;32m    311 \u001b[0;31m    \u001b[0mare\u001b[0m \u001b[0mstacked\u001b[0m \u001b[0;32min\u001b[0m \u001b[0mtime\u001b[0m \u001b[0malong\u001b[0m \u001b[0;36m0\u001b[0m\u001b[0mth\u001b[0m\u001b[0;34m-\u001b[0m\u001b[0maxis\u001b[0m\u001b[0;34m.\u001b[0m\u001b[0;34m\u001b[0m\u001b[0;34m\u001b[0m\u001b[0m\n",
      "\u001b[0m\u001b[0;32m    312 \u001b[0;31m    \"\"\"\n",
      "\u001b[0m\u001b[0;32m--> 313 \u001b[0;31m    \u001b[0mpath\u001b[0m \u001b[0;34m=\u001b[0m \u001b[0mPath\u001b[0m\u001b[0;34m(\u001b[0m\u001b[0mpath\u001b[0m\u001b[0;34m)\u001b[0m\u001b[0;34m\u001b[0m\u001b[0;34m\u001b[0m\u001b[0m\n",
      "\u001b[0m\u001b[0;32m    314 \u001b[0;31m    \u001b[0mfile_fmt\u001b[0m \u001b[0;34m=\u001b[0m \u001b[0m_infer_extension_from_path\u001b[0m\u001b[0;34m(\u001b[0m\u001b[0mpath\u001b[0m\u001b[0;34m)\u001b[0m\u001b[0;34m\u001b[0m\u001b[0;34m\u001b[0m\u001b[0m\n",
      "\u001b[0m\u001b[0;32m    315 \u001b[0;31m\u001b[0;34m\u001b[0m\u001b[0m\n",
      "\u001b[0m\n",
      "*** SyntaxError: invalid syntax\n",
      "Array([[[ 0.0000000e+00,  0.0000000e+00,  0.0000000e+00],\n",
      "        [-2.0000000e-01,  0.0000000e+00,  0.0000000e+00],\n",
      "        [-2.0000000e-01,  0.0000000e+00,  0.0000000e+00],\n",
      "        ...,\n",
      "        [-2.0000000e-01,  0.0000000e+00,  0.0000000e+00],\n",
      "        [ 0.0000000e+00,  0.0000000e+00,  0.0000000e+00],\n",
      "        [ 1.9999839e-01,  1.7190413e-04, -7.8914774e-04]],\n",
      "\n",
      "       [[ 5.6643970e-05,  2.7915835e-04,  3.0848384e-04],\n",
      "        [-1.9993845e-01,  8.6417713e-04, -9.6199242e-04],\n",
      "        [-1.9993845e-01,  8.6417713e-04, -9.6199242e-04],\n",
      "        ...,\n",
      "        [-1.9993845e-01,  8.6417713e-04, -9.6199242e-04],\n",
      "        [ 5.6609511e-05,  2.7915847e-04,  3.0848361e-04],\n",
      "        [ 2.0005289e-01, -3.8724940e-04,  1.3178181e-03]],\n",
      "\n",
      "       [[ 2.2586156e-04,  1.1081509e-03,  1.2255199e-03],\n",
      "        [-1.9969982e-01,  3.4382180e-03, -3.7027122e-03],\n",
      "        [-1.9969982e-01,  3.4382180e-03, -3.7027122e-03],\n",
      "        ...,\n",
      "        [-1.9969982e-01,  3.4382180e-03, -3.7027122e-03],\n",
      "        [ 2.2582710e-04,  1.1081514e-03,  1.2255190e-03],\n",
      "        [ 2.0007944e-01, -1.1000237e-03,  8.5501755e-03]],\n",
      "\n",
      "       ...,\n",
      "\n",
      "       [[ 3.5218406e-01,  1.0037965e+00,  3.7000901e-01],\n",
      "        [ 2.8002927e-01,  1.0538251e+00,  5.4970551e-01],\n",
      "        [ 2.8002927e-01,  1.0538251e+00,  5.4970551e-01],\n",
      "        ...,\n",
      "        [ 2.8002927e-01,  1.0538251e+00,  5.4970551e-01],\n",
      "        [ 3.5218400e-01,  1.0037965e+00,  3.7000895e-01],\n",
      "        [ 4.5610869e-01,  9.8317844e-01,  2.0037815e-01]],\n",
      "\n",
      "       [[ 3.5377109e-01,  1.0049829e+00,  3.6907452e-01],\n",
      "        [ 2.8046411e-01,  1.0550088e+00,  5.4830480e-01],\n",
      "        [ 2.8046411e-01,  1.0550088e+00,  5.4830480e-01],\n",
      "        ...,\n",
      "        [ 2.8046411e-01,  1.0550088e+00,  5.4830480e-01],\n",
      "        [ 3.5377100e-01,  1.0049828e+00,  3.6907458e-01],\n",
      "        [ 4.5766997e-01,  9.8382372e-01,  1.9949487e-01]],\n",
      "\n",
      "       [[ 3.5492581e-01,  1.0060704e+00,  3.6796594e-01],\n",
      "        [ 2.8070730e-01,  1.0559776e+00,  5.4685384e-01],\n",
      "        [ 2.8070730e-01,  1.0559776e+00,  5.4685384e-01],\n",
      "        ...,\n",
      "        [ 2.8070730e-01,  1.0559776e+00,  5.4685384e-01],\n",
      "        [ 3.5492581e-01,  1.0060704e+00,  3.6796594e-01],\n",
      "        [ 4.5849755e-01,  9.8435491e-01,  1.9825631e-01]]], dtype=float32)\n",
      "(6000, 8, 3)\n"
     ]
    }
   ],
   "source": [
    "from x_xy.subpkgs import pipeline\n",
    "from neural_networks.rnno import rnno_v2\n",
    "import os\n",
    "\n",
    "import IPython.core.debugger as pdb\n",
    "\n",
    "\n",
    "\n",
    "user = os.environ[\"USER\"]\n",
    "\n",
    "params = load_pickle_params(\"best_run\")\n",
    "\n",
    "pdb.set_trace()\n",
    "\n",
    "pipeline.predict(\n",
    "    sys=dustin_sys,\n",
    "    rnno_fn=rnno_v2,\n",
    "    X=X,\n",
    "    y=y,\n",
    "    xs=xs,\n",
    "    sys_xs=sys,\n",
    "    params=params,\n",
    "    plot=True,\n",
    "    render=True,\n",
    "    render_prediction=True,\n",
    "    render_path=f\"data/{user}/prism_output\"\n",
    ")"
   ]
  }
 ],
 "metadata": {
  "kernelspec": {
   "display_name": "prism",
   "language": "python",
   "name": "python3"
  },
  "language_info": {
   "codemirror_mode": {
    "name": "ipython",
    "version": 3
   },
   "file_extension": ".py",
   "mimetype": "text/x-python",
   "name": "python",
   "nbconvert_exporter": "python",
   "pygments_lexer": "ipython3",
   "version": "3.10.12"
  },
  "orig_nbformat": 4
 },
 "nbformat": 4,
 "nbformat_minor": 2
}
